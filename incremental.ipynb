{
 "cells": [
  {
   "cell_type": "code",
   "execution_count": 1,
   "metadata": {},
   "outputs": [],
   "source": [
    "import pandas as pd\n",
    "import psycopg2\n",
    "import pyodbc\n",
    "from sqlalchemy import create_engine\n",
    "import os\n",
    "from dotenv import load_dotenv\n"
   ]
  },
  {
   "cell_type": "code",
   "execution_count": 2,
   "metadata": {},
   "outputs": [],
   "source": [
    "load_dotenv() #Necessário para carregar as variáveis presente no arquivo .env\n",
    "\n",
    "# Credenciais do SQL Server\n",
    "\n",
    "driver = \"ODBC Driver 18 for SQL Server\"\n",
    "server = 'localhost'\n",
    "database = 'AdventureWorks'\n",
    "uid = os.getenv(\"sql_uid\")\n",
    "pwd = os.getenv(\"sql_pwd\")\n",
    "\n",
    "# Credenciais do Postgres\n",
    "\n",
    "pg_server = 'localhost'\n",
    "pg_database = 'adventureworks'\n",
    "port = '5431' #A porta padrão é 5432, mas ao subir o meu banco num container docker, eu escolhi a 5431\n",
    "pg_user = os.getenv(\"pg_user\")\n",
    "pg_pwd = os.getenv(\"pg_pwd\")\n"
   ]
  },
  {
   "cell_type": "code",
   "execution_count": 3,
   "metadata": {},
   "outputs": [],
   "source": [
    "# Montando as strings de conexões\n",
    "\n",
    "# SQL Server\n",
    "\n",
    "conn_string = f'DRIVER={driver};SERVER={server};DATABASE={database};UID={uid};PWD={pwd};TrustServerCertificate=yes'\n",
    "conn_scr = pyodbc.connect(conn_string)\n",
    "\n",
    "# Postgres\n",
    "\n",
    "engine = create_engine(f'postgresql://{pg_user}:{pg_pwd}@{pg_server}:{port}/{pg_database}')\n"
   ]
  },
  {
   "cell_type": "markdown",
   "metadata": {},
   "source": [
    "### Carga de dados no banco de destino(Postgres)"
   ]
  },
  {
   "cell_type": "code",
   "execution_count": 4,
   "metadata": {},
   "outputs": [
    {
     "name": "stderr",
     "output_type": "stream",
     "text": [
      "/var/folders/85/7g55hdxn655gfsc90k47xqkr0000gn/T/ipykernel_30988/4037460507.py:1: UserWarning: pandas only supports SQLAlchemy connectable (engine/connection) or database string URI or sqlite3 DBAPI2 connection. Other DBAPI2 objects are not tested. Please consider using SQLAlchemy.\n",
      "  fonte = pd.read_sql_query(\"\"\"\n"
     ]
    },
    {
     "data": {
      "text/html": [
       "<div>\n",
       "<style scoped>\n",
       "    .dataframe tbody tr th:only-of-type {\n",
       "        vertical-align: middle;\n",
       "    }\n",
       "\n",
       "    .dataframe tbody tr th {\n",
       "        vertical-align: top;\n",
       "    }\n",
       "\n",
       "    .dataframe thead th {\n",
       "        text-align: right;\n",
       "    }\n",
       "</style>\n",
       "<table border=\"1\" class=\"dataframe\">\n",
       "  <thead>\n",
       "    <tr style=\"text-align: right;\">\n",
       "      <th></th>\n",
       "      <th>cod_cliente</th>\n",
       "      <th>nome_completo</th>\n",
       "      <th>tipo_cliente</th>\n",
       "    </tr>\n",
       "  </thead>\n",
       "  <tbody>\n",
       "    <tr>\n",
       "      <th>0</th>\n",
       "      <td>1</td>\n",
       "      <td>Ana Souza</td>\n",
       "      <td>Cliente Varejo</td>\n",
       "    </tr>\n",
       "    <tr>\n",
       "      <th>1</th>\n",
       "      <td>2</td>\n",
       "      <td>Bruno Oliveira</td>\n",
       "      <td>Cliente Comercial</td>\n",
       "    </tr>\n",
       "    <tr>\n",
       "      <th>2</th>\n",
       "      <td>3</td>\n",
       "      <td>Carlos Mendes</td>\n",
       "      <td>Cliente Varejo</td>\n",
       "    </tr>\n",
       "    <tr>\n",
       "      <th>3</th>\n",
       "      <td>4</td>\n",
       "      <td>Daniela Castro</td>\n",
       "      <td>Cliente Comercial</td>\n",
       "    </tr>\n",
       "    <tr>\n",
       "      <th>4</th>\n",
       "      <td>5</td>\n",
       "      <td>Eduardo Lima</td>\n",
       "      <td>Cliente Varejo</td>\n",
       "    </tr>\n",
       "    <tr>\n",
       "      <th>5</th>\n",
       "      <td>6</td>\n",
       "      <td>Fernanda Martins</td>\n",
       "      <td>Cliente Comercial</td>\n",
       "    </tr>\n",
       "  </tbody>\n",
       "</table>\n",
       "</div>"
      ],
      "text/plain": [
       "   cod_cliente     nome_completo       tipo_cliente\n",
       "0            1         Ana Souza     Cliente Varejo\n",
       "1            2    Bruno Oliveira  Cliente Comercial\n",
       "2            3     Carlos Mendes     Cliente Varejo\n",
       "3            4    Daniela Castro  Cliente Comercial\n",
       "4            5      Eduardo Lima     Cliente Varejo\n",
       "5            6  Fernanda Martins  Cliente Comercial"
      ]
     },
     "execution_count": 4,
     "metadata": {},
     "output_type": "execute_result"
    }
   ],
   "source": [
    "fonte = pd.read_sql_query(\"\"\"\n",
    "SELECT\n",
    "    cod_cliente,\n",
    "    nome_completo,\n",
    "    tipo_cliente\n",
    "FROM Sales.clientes\n",
    "WHERE cod_cliente <= 6\n",
    "\"\"\", conn_scr)\n",
    "fonte"
   ]
  },
  {
   "cell_type": "code",
   "execution_count": 5,
   "metadata": {},
   "outputs": [
    {
     "data": {
      "text/plain": [
       "6"
      ]
     },
     "execution_count": 5,
     "metadata": {},
     "output_type": "execute_result"
    }
   ],
   "source": [
    "tabela = 'clientes'\n",
    "fonte.to_sql(tabela,engine,if_exists='replace',index=False)"
   ]
  },
  {
   "cell_type": "markdown",
   "metadata": {},
   "source": [
    "### Merge da tabela de origem com a de destino para a carga de dados novos"
   ]
  },
  {
   "cell_type": "code",
   "execution_count": 6,
   "metadata": {},
   "outputs": [
    {
     "name": "stderr",
     "output_type": "stream",
     "text": [
      "/var/folders/85/7g55hdxn655gfsc90k47xqkr0000gn/T/ipykernel_30988/2338578742.py:1: UserWarning: pandas only supports SQLAlchemy connectable (engine/connection) or database string URI or sqlite3 DBAPI2 connection. Other DBAPI2 objects are not tested. Please consider using SQLAlchemy.\n",
      "  origem = pd.read_sql_query(\"\"\"\n"
     ]
    },
    {
     "data": {
      "text/html": [
       "<div>\n",
       "<style scoped>\n",
       "    .dataframe tbody tr th:only-of-type {\n",
       "        vertical-align: middle;\n",
       "    }\n",
       "\n",
       "    .dataframe tbody tr th {\n",
       "        vertical-align: top;\n",
       "    }\n",
       "\n",
       "    .dataframe thead th {\n",
       "        text-align: right;\n",
       "    }\n",
       "</style>\n",
       "<table border=\"1\" class=\"dataframe\">\n",
       "  <thead>\n",
       "    <tr style=\"text-align: right;\">\n",
       "      <th></th>\n",
       "      <th>cod_cliente</th>\n",
       "      <th>nome_completo</th>\n",
       "      <th>tipo_cliente</th>\n",
       "    </tr>\n",
       "  </thead>\n",
       "  <tbody>\n",
       "    <tr>\n",
       "      <th>0</th>\n",
       "      <td>1</td>\n",
       "      <td>Ana Souza</td>\n",
       "      <td>Cliente Varejo</td>\n",
       "    </tr>\n",
       "    <tr>\n",
       "      <th>1</th>\n",
       "      <td>2</td>\n",
       "      <td>Bruno Oliveira</td>\n",
       "      <td>Cliente Comercial</td>\n",
       "    </tr>\n",
       "    <tr>\n",
       "      <th>2</th>\n",
       "      <td>3</td>\n",
       "      <td>Carlos Mendes</td>\n",
       "      <td>Cliente Varejo</td>\n",
       "    </tr>\n",
       "    <tr>\n",
       "      <th>3</th>\n",
       "      <td>4</td>\n",
       "      <td>Daniela Castro</td>\n",
       "      <td>Cliente Comercial</td>\n",
       "    </tr>\n",
       "    <tr>\n",
       "      <th>4</th>\n",
       "      <td>5</td>\n",
       "      <td>Eduardo Lima</td>\n",
       "      <td>Cliente Varejo</td>\n",
       "    </tr>\n",
       "    <tr>\n",
       "      <th>5</th>\n",
       "      <td>6</td>\n",
       "      <td>Fernanda Martins</td>\n",
       "      <td>Cliente Comercial</td>\n",
       "    </tr>\n",
       "    <tr>\n",
       "      <th>6</th>\n",
       "      <td>7</td>\n",
       "      <td>Gabriel Silva</td>\n",
       "      <td>Cliente Varejo</td>\n",
       "    </tr>\n",
       "    <tr>\n",
       "      <th>7</th>\n",
       "      <td>8</td>\n",
       "      <td>Helena Costa</td>\n",
       "      <td>Cliente Comercial</td>\n",
       "    </tr>\n",
       "    <tr>\n",
       "      <th>8</th>\n",
       "      <td>9</td>\n",
       "      <td>Igor Santos</td>\n",
       "      <td>Cliente Varejo</td>\n",
       "    </tr>\n",
       "    <tr>\n",
       "      <th>9</th>\n",
       "      <td>10</td>\n",
       "      <td>Juliana Freitas</td>\n",
       "      <td>Cliente Comercial</td>\n",
       "    </tr>\n",
       "  </tbody>\n",
       "</table>\n",
       "</div>"
      ],
      "text/plain": [
       "   cod_cliente     nome_completo       tipo_cliente\n",
       "0            1         Ana Souza     Cliente Varejo\n",
       "1            2    Bruno Oliveira  Cliente Comercial\n",
       "2            3     Carlos Mendes     Cliente Varejo\n",
       "3            4    Daniela Castro  Cliente Comercial\n",
       "4            5      Eduardo Lima     Cliente Varejo\n",
       "5            6  Fernanda Martins  Cliente Comercial\n",
       "6            7     Gabriel Silva     Cliente Varejo\n",
       "7            8      Helena Costa  Cliente Comercial\n",
       "8            9       Igor Santos     Cliente Varejo\n",
       "9           10   Juliana Freitas  Cliente Comercial"
      ]
     },
     "execution_count": 6,
     "metadata": {},
     "output_type": "execute_result"
    }
   ],
   "source": [
    "origem = pd.read_sql_query(\"\"\"\n",
    "SELECT\n",
    "    cod_cliente,\n",
    "    nome_completo,\n",
    "    tipo_cliente\n",
    "FROM Sales.clientes\n",
    "\"\"\", conn_scr)\n",
    "origem"
   ]
  },
  {
   "cell_type": "code",
   "execution_count": 7,
   "metadata": {},
   "outputs": [
    {
     "data": {
      "text/html": [
       "<div>\n",
       "<style scoped>\n",
       "    .dataframe tbody tr th:only-of-type {\n",
       "        vertical-align: middle;\n",
       "    }\n",
       "\n",
       "    .dataframe tbody tr th {\n",
       "        vertical-align: top;\n",
       "    }\n",
       "\n",
       "    .dataframe thead th {\n",
       "        text-align: right;\n",
       "    }\n",
       "</style>\n",
       "<table border=\"1\" class=\"dataframe\">\n",
       "  <thead>\n",
       "    <tr style=\"text-align: right;\">\n",
       "      <th></th>\n",
       "      <th>cod_cliente</th>\n",
       "    </tr>\n",
       "  </thead>\n",
       "  <tbody>\n",
       "    <tr>\n",
       "      <th>0</th>\n",
       "      <td>1</td>\n",
       "    </tr>\n",
       "    <tr>\n",
       "      <th>1</th>\n",
       "      <td>2</td>\n",
       "    </tr>\n",
       "    <tr>\n",
       "      <th>2</th>\n",
       "      <td>3</td>\n",
       "    </tr>\n",
       "    <tr>\n",
       "      <th>3</th>\n",
       "      <td>4</td>\n",
       "    </tr>\n",
       "    <tr>\n",
       "      <th>4</th>\n",
       "      <td>5</td>\n",
       "    </tr>\n",
       "    <tr>\n",
       "      <th>5</th>\n",
       "      <td>6</td>\n",
       "    </tr>\n",
       "  </tbody>\n",
       "</table>\n",
       "</div>"
      ],
      "text/plain": [
       "   cod_cliente\n",
       "0            1\n",
       "1            2\n",
       "2            3\n",
       "3            4\n",
       "4            5\n",
       "5            6"
      ]
     },
     "execution_count": 7,
     "metadata": {},
     "output_type": "execute_result"
    }
   ],
   "source": [
    "destino = pd.read_sql_query(\"\"\"\n",
    "SELECT\n",
    "    cod_cliente\n",
    "FROM clientes\n",
    "\"\"\", engine)\n",
    "destino"
   ]
  },
  {
   "cell_type": "code",
   "execution_count": 8,
   "metadata": {},
   "outputs": [
    {
     "data": {
      "text/html": [
       "<div>\n",
       "<style scoped>\n",
       "    .dataframe tbody tr th:only-of-type {\n",
       "        vertical-align: middle;\n",
       "    }\n",
       "\n",
       "    .dataframe tbody tr th {\n",
       "        vertical-align: top;\n",
       "    }\n",
       "\n",
       "    .dataframe thead th {\n",
       "        text-align: right;\n",
       "    }\n",
       "</style>\n",
       "<table border=\"1\" class=\"dataframe\">\n",
       "  <thead>\n",
       "    <tr style=\"text-align: right;\">\n",
       "      <th></th>\n",
       "      <th>cod_cliente</th>\n",
       "      <th>nome_completo</th>\n",
       "      <th>tipo_cliente</th>\n",
       "      <th>_merge</th>\n",
       "    </tr>\n",
       "  </thead>\n",
       "  <tbody>\n",
       "    <tr>\n",
       "      <th>0</th>\n",
       "      <td>1</td>\n",
       "      <td>Ana Souza</td>\n",
       "      <td>Cliente Varejo</td>\n",
       "      <td>both</td>\n",
       "    </tr>\n",
       "    <tr>\n",
       "      <th>1</th>\n",
       "      <td>2</td>\n",
       "      <td>Bruno Oliveira</td>\n",
       "      <td>Cliente Comercial</td>\n",
       "      <td>both</td>\n",
       "    </tr>\n",
       "    <tr>\n",
       "      <th>2</th>\n",
       "      <td>3</td>\n",
       "      <td>Carlos Mendes</td>\n",
       "      <td>Cliente Varejo</td>\n",
       "      <td>both</td>\n",
       "    </tr>\n",
       "    <tr>\n",
       "      <th>3</th>\n",
       "      <td>4</td>\n",
       "      <td>Daniela Castro</td>\n",
       "      <td>Cliente Comercial</td>\n",
       "      <td>both</td>\n",
       "    </tr>\n",
       "    <tr>\n",
       "      <th>4</th>\n",
       "      <td>5</td>\n",
       "      <td>Eduardo Lima</td>\n",
       "      <td>Cliente Varejo</td>\n",
       "      <td>both</td>\n",
       "    </tr>\n",
       "    <tr>\n",
       "      <th>5</th>\n",
       "      <td>6</td>\n",
       "      <td>Fernanda Martins</td>\n",
       "      <td>Cliente Comercial</td>\n",
       "      <td>both</td>\n",
       "    </tr>\n",
       "    <tr>\n",
       "      <th>6</th>\n",
       "      <td>7</td>\n",
       "      <td>Gabriel Silva</td>\n",
       "      <td>Cliente Varejo</td>\n",
       "      <td>left_only</td>\n",
       "    </tr>\n",
       "    <tr>\n",
       "      <th>7</th>\n",
       "      <td>8</td>\n",
       "      <td>Helena Costa</td>\n",
       "      <td>Cliente Comercial</td>\n",
       "      <td>left_only</td>\n",
       "    </tr>\n",
       "    <tr>\n",
       "      <th>8</th>\n",
       "      <td>9</td>\n",
       "      <td>Igor Santos</td>\n",
       "      <td>Cliente Varejo</td>\n",
       "      <td>left_only</td>\n",
       "    </tr>\n",
       "    <tr>\n",
       "      <th>9</th>\n",
       "      <td>10</td>\n",
       "      <td>Juliana Freitas</td>\n",
       "      <td>Cliente Comercial</td>\n",
       "      <td>left_only</td>\n",
       "    </tr>\n",
       "  </tbody>\n",
       "</table>\n",
       "</div>"
      ],
      "text/plain": [
       "   cod_cliente     nome_completo       tipo_cliente     _merge\n",
       "0            1         Ana Souza     Cliente Varejo       both\n",
       "1            2    Bruno Oliveira  Cliente Comercial       both\n",
       "2            3     Carlos Mendes     Cliente Varejo       both\n",
       "3            4    Daniela Castro  Cliente Comercial       both\n",
       "4            5      Eduardo Lima     Cliente Varejo       both\n",
       "5            6  Fernanda Martins  Cliente Comercial       both\n",
       "6            7     Gabriel Silva     Cliente Varejo  left_only\n",
       "7            8      Helena Costa  Cliente Comercial  left_only\n",
       "8            9       Igor Santos     Cliente Varejo  left_only\n",
       "9           10   Juliana Freitas  Cliente Comercial  left_only"
      ]
     },
     "execution_count": 8,
     "metadata": {},
     "output_type": "execute_result"
    }
   ],
   "source": [
    "tbl_merge = origem.merge(destino,\n",
    "                        how = 'left',\n",
    "                        on = 'cod_cliente',\n",
    "                        indicator=True)\n",
    "tbl_merge"
   ]
  },
  {
   "cell_type": "code",
   "execution_count": 9,
   "metadata": {},
   "outputs": [
    {
     "data": {
      "text/html": [
       "<div>\n",
       "<style scoped>\n",
       "    .dataframe tbody tr th:only-of-type {\n",
       "        vertical-align: middle;\n",
       "    }\n",
       "\n",
       "    .dataframe tbody tr th {\n",
       "        vertical-align: top;\n",
       "    }\n",
       "\n",
       "    .dataframe thead th {\n",
       "        text-align: right;\n",
       "    }\n",
       "</style>\n",
       "<table border=\"1\" class=\"dataframe\">\n",
       "  <thead>\n",
       "    <tr style=\"text-align: right;\">\n",
       "      <th></th>\n",
       "      <th>cod_cliente</th>\n",
       "      <th>nome_completo</th>\n",
       "      <th>tipo_cliente</th>\n",
       "    </tr>\n",
       "  </thead>\n",
       "  <tbody>\n",
       "    <tr>\n",
       "      <th>6</th>\n",
       "      <td>7</td>\n",
       "      <td>Gabriel Silva</td>\n",
       "      <td>Cliente Varejo</td>\n",
       "    </tr>\n",
       "    <tr>\n",
       "      <th>7</th>\n",
       "      <td>8</td>\n",
       "      <td>Helena Costa</td>\n",
       "      <td>Cliente Comercial</td>\n",
       "    </tr>\n",
       "    <tr>\n",
       "      <th>8</th>\n",
       "      <td>9</td>\n",
       "      <td>Igor Santos</td>\n",
       "      <td>Cliente Varejo</td>\n",
       "    </tr>\n",
       "    <tr>\n",
       "      <th>9</th>\n",
       "      <td>10</td>\n",
       "      <td>Juliana Freitas</td>\n",
       "      <td>Cliente Comercial</td>\n",
       "    </tr>\n",
       "  </tbody>\n",
       "</table>\n",
       "</div>"
      ],
      "text/plain": [
       "   cod_cliente    nome_completo       tipo_cliente\n",
       "6            7    Gabriel Silva     Cliente Varejo\n",
       "7            8     Helena Costa  Cliente Comercial\n",
       "8            9      Igor Santos     Cliente Varejo\n",
       "9           10  Juliana Freitas  Cliente Comercial"
      ]
     },
     "execution_count": 9,
     "metadata": {},
     "output_type": "execute_result"
    }
   ],
   "source": [
    "dados_novos = tbl_merge[tbl_merge[\"_merge\"] == \"left_only\"][[\"cod_cliente\", \"nome_completo\", \"tipo_cliente\"]]\n",
    "dados_novos\n"
   ]
  },
  {
   "cell_type": "code",
   "execution_count": 10,
   "metadata": {},
   "outputs": [
    {
     "data": {
      "text/plain": [
       "4"
      ]
     },
     "execution_count": 10,
     "metadata": {},
     "output_type": "execute_result"
    }
   ],
   "source": [
    "tabela = 'clientes'\n",
    "dados_novos.to_sql(tabela,engine,if_exists='append',index=False)"
   ]
  }
 ],
 "metadata": {
  "kernelspec": {
   "display_name": "venv",
   "language": "python",
   "name": "python3"
  },
  "language_info": {
   "codemirror_mode": {
    "name": "ipython",
    "version": 3
   },
   "file_extension": ".py",
   "mimetype": "text/x-python",
   "name": "python",
   "nbconvert_exporter": "python",
   "pygments_lexer": "ipython3",
   "version": "3.13.1"
  }
 },
 "nbformat": 4,
 "nbformat_minor": 2
}
